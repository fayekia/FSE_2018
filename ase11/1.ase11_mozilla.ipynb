{
 "cells": [
  {
   "cell_type": "code",
   "execution_count": null,
   "metadata": {
    "collapsed": true
   },
   "outputs": [],
   "source": [
    "#1. initial all(long description won't change)"
   ]
  },
  {
   "cell_type": "code",
   "execution_count": 1,
   "metadata": {
    "collapsed": true
   },
   "outputs": [],
   "source": [
    "from collections import defaultdict\n",
    "from collections import Counter\n",
    "import MySQLdb\n",
    "import pandas as pd\n",
    "import numpy as np\n",
    "import sys\n",
    "reload(sys)\n",
    "sys.setdefaultencoding('utf8')\n",
    "#import numexpr as ne\n",
    "#import matplotlib.pyplot as plt\n",
    "#%matplotlib inline\n",
    "conn = MySQLdb.connect(\n",
    "                     host='localhost', port=3306, user='***', passwd='***', db = 'mozilla2016',\n",
    "                     charset='utf8')"
   ]
  },
  {
   "cell_type": "code",
   "execution_count": 2,
   "metadata": {},
   "outputs": [
    {
     "data": {
      "text/plain": [
       "(78414, 4)"
      ]
     },
     "execution_count": 2,
     "metadata": {},
     "output_type": "execute_result"
    }
   ],
   "source": [
    "bug_info = pd.read_sql(\"SELECT bug_id, short_desc, product_id, component_id, priority FROM bugs WHERE bug_id >= 537438 and bug_id <= 622320;\", conn)\n",
    "bug_info.set_index('bug_id', inplace=True)\n",
    "bug_info.shape"
   ]
  },
  {
   "cell_type": "code",
   "execution_count": 3,
   "metadata": {},
   "outputs": [
    {
     "data": {
      "text/html": [
       "<div style=\"max-height:1000px;max-width:1500px;overflow:auto;\">\n",
       "<table border=\"1\" class=\"dataframe\">\n",
       "  <thead>\n",
       "    <tr style=\"text-align: right;\">\n",
       "      <th></th>\n",
       "      <th>id</th>\n",
       "      <th>name</th>\n",
       "      <th>description</th>\n",
       "    </tr>\n",
       "  </thead>\n",
       "  <tbody>\n",
       "    <tr>\n",
       "      <th>0</th>\n",
       "      <td>33</td>\n",
       "      <td>component</td>\n",
       "      <td>Component</td>\n",
       "    </tr>\n",
       "    <tr>\n",
       "      <th>1</th>\n",
       "      <td>32</td>\n",
       "      <td>priority</td>\n",
       "      <td>Priority</td>\n",
       "    </tr>\n",
       "    <tr>\n",
       "      <th>2</th>\n",
       "      <td>25</td>\n",
       "      <td>product</td>\n",
       "      <td>Product</td>\n",
       "    </tr>\n",
       "    <tr>\n",
       "      <th>3</th>\n",
       "      <td>24</td>\n",
       "      <td>short_desc</td>\n",
       "      <td>Summary</td>\n",
       "    </tr>\n",
       "  </tbody>\n",
       "</table>\n",
       "</div>"
      ],
      "text/plain": [
       "   id        name description\n",
       "0  33   component   Component\n",
       "1  32    priority    Priority\n",
       "2  25     product     Product\n",
       "3  24  short_desc     Summary"
      ]
     },
     "execution_count": 3,
     "metadata": {},
     "output_type": "execute_result"
    }
   ],
   "source": [
    "pd.read_sql('SELECT id, name, description from fielddefs where name in (\"short_desc\", \"product\", \"component\", \"priority\")', conn)"
   ]
  },
  {
   "cell_type": "code",
   "execution_count": 4,
   "metadata": {},
   "outputs": [],
   "source": [
    "activities = pd.read_sql('SELECT * FROM bugs_activity where bug_id >= 537438 and bug_id <= 622320 and fieldid in (33, 32, 25, 24) ' , conn)"
   ]
  },
  {
   "cell_type": "code",
   "execution_count": 5,
   "metadata": {
    "collapsed": true
   },
   "outputs": [],
   "source": [
    "product_df = pd.read_sql('SELECT  name,id FROM products ', conn)\n",
    "product_df.set_index('name', inplace=True)\n",
    "product_mapping = product_df['id'].to_dict()"
   ]
  },
  {
   "cell_type": "code",
   "execution_count": 6,
   "metadata": {},
   "outputs": [],
   "source": [
    "component_df = pd.read_sql('SELECT  name,id FROM components ', conn)\n",
    "component_df.set_index('name', inplace=True)\n",
    "component_mapping = component_df['id'].to_dict()"
   ]
  },
  {
   "cell_type": "code",
   "execution_count": 7,
   "metadata": {},
   "outputs": [],
   "source": [
    "activities.sort('bug_when', ascending=False, inplace=True)"
   ]
  },
  {
   "cell_type": "code",
   "execution_count": 8,
   "metadata": {
    "collapsed": true
   },
   "outputs": [],
   "source": [
    "after = bug_info.copy()"
   ]
  },
  {
   "cell_type": "code",
   "execution_count": 9,
   "metadata": {
    "collapsed": true
   },
   "outputs": [],
   "source": [
    "for rownum in range(0, activities.shape[0]):\n",
    "    row = activities.iloc[rownum]\n",
    "    bug_id = row['bug_id']\n",
    "    field = row['fieldid']\n",
    "    removed = row['removed']\n",
    "    try:\n",
    "        if field ==24:\n",
    "            after.ix[bug_id, 'short_desc'] = removed\n",
    "        elif field == 25:\n",
    "            after.ix[bug_id, 'product_id'] = product_mapping[removed]\n",
    "        elif field == 32:\n",
    "            after.ix[bug_id, 'priority'] = removed\n",
    "        elif field == 33:\n",
    "            after.ix[bug_id, 'component_id'] = component_mapping[removed]\n",
    "    except Exception:\n",
    "        pass"
   ]
  },
  {
   "cell_type": "code",
   "execution_count": 10,
   "metadata": {},
   "outputs": [
    {
     "data": {
      "text/html": [
       "<div style=\"max-height:1000px;max-width:1500px;overflow:auto;\">\n",
       "<table border=\"1\" class=\"dataframe\">\n",
       "  <thead>\n",
       "    <tr style=\"text-align: right;\">\n",
       "      <th></th>\n",
       "      <th>short_desc</th>\n",
       "      <th>product_id</th>\n",
       "      <th>component_id</th>\n",
       "      <th>priority</th>\n",
       "    </tr>\n",
       "    <tr>\n",
       "      <th>bug_id</th>\n",
       "      <th></th>\n",
       "      <th></th>\n",
       "      <th></th>\n",
       "      <th></th>\n",
       "    </tr>\n",
       "  </thead>\n",
       "  <tbody>\n",
       "    <tr>\n",
       "      <th>537438</th>\n",
       "      <td>Mouse pointer hover mode, similar to Maemo's d...</td>\n",
       "      <td>46</td>\n",
       "      <td>715</td>\n",
       "      <td>--</td>\n",
       "    </tr>\n",
       "    <tr>\n",
       "      <th>537439</th>\n",
       "      <td>Weave button was hidden ，Can not continue</td>\n",
       "      <td>40</td>\n",
       "      <td>863</td>\n",
       "      <td>--</td>\n",
       "    </tr>\n",
       "    <tr>\n",
       "      <th>537440</th>\n",
       "      <td>Tab tear out too sensitive</td>\n",
       "      <td>21</td>\n",
       "      <td>279</td>\n",
       "      <td>--</td>\n",
       "    </tr>\n",
       "    <tr>\n",
       "      <th>537441</th>\n",
       "      <td>Vytvořit stránku představující \"Firefox Mobile...</td>\n",
       "      <td>57</td>\n",
       "      <td>903</td>\n",
       "      <td>--</td>\n",
       "    </tr>\n",
       "    <tr>\n",
       "      <th>537442</th>\n",
       "      <td>Web page http://www.mozilla.org/unix/customizi...</td>\n",
       "      <td>93</td>\n",
       "      <td>1526</td>\n",
       "      <td>--</td>\n",
       "    </tr>\n",
       "  </tbody>\n",
       "</table>\n",
       "</div>"
      ],
      "text/plain": [
       "                                               short_desc  product_id  \\\n",
       "bug_id                                                                  \n",
       "537438  Mouse pointer hover mode, similar to Maemo's d...          46   \n",
       "537439          Weave button was hidden ，Can not continue          40   \n",
       "537440                         Tab tear out too sensitive          21   \n",
       "537441  Vytvořit stránku představující \"Firefox Mobile...          57   \n",
       "537442  Web page http://www.mozilla.org/unix/customizi...          93   \n",
       "\n",
       "        component_id priority  \n",
       "bug_id                         \n",
       "537438           715       --  \n",
       "537439           863       --  \n",
       "537440           279       --  \n",
       "537441           903       --  \n",
       "537442          1526       --  "
      ]
     },
     "execution_count": 10,
     "metadata": {},
     "output_type": "execute_result"
    }
   ],
   "source": [
    "bug_info.head()"
   ]
  },
  {
   "cell_type": "code",
   "execution_count": 11,
   "metadata": {},
   "outputs": [
    {
     "data": {
      "text/html": [
       "<div style=\"max-height:1000px;max-width:1500px;overflow:auto;\">\n",
       "<table border=\"1\" class=\"dataframe\">\n",
       "  <thead>\n",
       "    <tr style=\"text-align: right;\">\n",
       "      <th></th>\n",
       "      <th>short_desc</th>\n",
       "      <th>product_id</th>\n",
       "      <th>component_id</th>\n",
       "      <th>priority</th>\n",
       "    </tr>\n",
       "    <tr>\n",
       "      <th>bug_id</th>\n",
       "      <th></th>\n",
       "      <th></th>\n",
       "      <th></th>\n",
       "      <th></th>\n",
       "    </tr>\n",
       "  </thead>\n",
       "  <tbody>\n",
       "    <tr>\n",
       "      <th>537438</th>\n",
       "      <td>Mouse pointer hover support, similar to Maemo'...</td>\n",
       "      <td>46</td>\n",
       "      <td>715</td>\n",
       "      <td>--</td>\n",
       "    </tr>\n",
       "    <tr>\n",
       "      <th>537439</th>\n",
       "      <td>Weave button was hidden ，Can not continue</td>\n",
       "      <td>40</td>\n",
       "      <td>863</td>\n",
       "      <td>--</td>\n",
       "    </tr>\n",
       "    <tr>\n",
       "      <th>537440</th>\n",
       "      <td>Tab tear out too sensitive</td>\n",
       "      <td>21</td>\n",
       "      <td>279</td>\n",
       "      <td>--</td>\n",
       "    </tr>\n",
       "    <tr>\n",
       "      <th>537441</th>\n",
       "      <td>Vytvořit stránku představující \"Firefox Mobile...</td>\n",
       "      <td>57</td>\n",
       "      <td>903</td>\n",
       "      <td>--</td>\n",
       "    </tr>\n",
       "    <tr>\n",
       "      <th>537442</th>\n",
       "      <td>Web page http://www.mozilla.org/unix/customizi...</td>\n",
       "      <td>36</td>\n",
       "      <td>1526</td>\n",
       "      <td>--</td>\n",
       "    </tr>\n",
       "  </tbody>\n",
       "</table>\n",
       "</div>"
      ],
      "text/plain": [
       "                                               short_desc  product_id  \\\n",
       "bug_id                                                                  \n",
       "537438  Mouse pointer hover support, similar to Maemo'...          46   \n",
       "537439          Weave button was hidden ，Can not continue          40   \n",
       "537440                         Tab tear out too sensitive          21   \n",
       "537441  Vytvořit stránku představující \"Firefox Mobile...          57   \n",
       "537442  Web page http://www.mozilla.org/unix/customizi...          36   \n",
       "\n",
       "        component_id priority  \n",
       "bug_id                         \n",
       "537438           715       --  \n",
       "537439           863       --  \n",
       "537440           279       --  \n",
       "537441           903       --  \n",
       "537442          1526       --  "
      ]
     },
     "execution_count": 11,
     "metadata": {},
     "output_type": "execute_result"
    }
   ],
   "source": [
    "after.head()"
   ]
  },
  {
   "cell_type": "code",
   "execution_count": 12,
   "metadata": {},
   "outputs": [
    {
     "data": {
      "text/plain": [
       "(5386, 4)"
      ]
     },
     "execution_count": 12,
     "metadata": {},
     "output_type": "execute_result"
    }
   ],
   "source": [
    "after[after['priority'] != bug_info['priority']].shape"
   ]
  },
  {
   "cell_type": "code",
   "execution_count": 13,
   "metadata": {},
   "outputs": [
    {
     "data": {
      "text/plain": [
       "(12476, 4)"
      ]
     },
     "execution_count": 13,
     "metadata": {},
     "output_type": "execute_result"
    }
   ],
   "source": [
    "after[after['component_id'] != bug_info['component_id']].shape"
   ]
  },
  {
   "cell_type": "code",
   "execution_count": 14,
   "metadata": {},
   "outputs": [
    {
     "data": {
      "text/plain": [
       "(22445, 4)"
      ]
     },
     "execution_count": 14,
     "metadata": {},
     "output_type": "execute_result"
    }
   ],
   "source": [
    "after[after['product_id'] != bug_info['product_id']].shape"
   ]
  },
  {
   "cell_type": "code",
   "execution_count": 15,
   "metadata": {
    "collapsed": true
   },
   "outputs": [],
   "source": [
    "after.loc[after['short_desc'].isnull(), 'short_desc'] = bug_info.loc[after['short_desc'].isnull(), 'short_desc']"
   ]
  },
  {
   "cell_type": "code",
   "execution_count": 16,
   "metadata": {},
   "outputs": [
    {
     "data": {
      "text/plain": [
       "(12245, 4)"
      ]
     },
     "execution_count": 16,
     "metadata": {},
     "output_type": "execute_result"
    }
   ],
   "source": [
    "after[after['short_desc'] != bug_info['short_desc']].shape"
   ]
  },
  {
   "cell_type": "code",
   "execution_count": 17,
   "metadata": {
    "collapsed": true
   },
   "outputs": [],
   "source": [
    "after.to_pickle(\"original_info.pkl\")"
   ]
  },
  {
   "cell_type": "code",
   "execution_count": 18,
   "metadata": {},
   "outputs": [],
   "source": [
    "df = pd.read_pickle('original_info.pkl').reset_index()\n",
    "\n",
    "from nltk.tokenize import WordPunctTokenizer\n",
    "from nltk.stem.porter import PorterStemmer\n",
    "from nltk.corpus import stopwords\n",
    "stopwords = stopwords.words('english')\n",
    "tokenizer = WordPunctTokenizer()\n",
    "stemmer = PorterStemmer()\n",
    "\n",
    "def get_bigrams(string):\n",
    "    try:\n",
    "        l = filter(lambda x: x.isalpha(), tokenizer.tokenize(string.lower()))\n",
    "        bigrams = []\n",
    "        for i in range(1, len(l)):\n",
    "            bigrams.append(l[i-1] + ' ' + l[i])\n",
    "        return bigrams\n",
    "    except Exception:\n",
    "        return []\n",
    "\n",
    "def get_trigrams(string):\n",
    "    try:\n",
    "        l = filter(lambda x: x.isalpha(), tokenizer.tokenize(string.lower()))\n",
    "        bigrams = []\n",
    "        for i in range(2, len(l)):\n",
    "            bigrams.append(l[i-2] + ' ' + l[i-1] + ' ' + l[i])\n",
    "        return bigrams\n",
    "    except Exception:\n",
    "        return []\n",
    "\n",
    "short_desc_bag = df['short_desc'].apply(lambda string: Counter(filter(lambda x: x not in stopwords and x.isalpha(), map(lambda x: stemmer.stem(x), tokenizer.tokenize(string.lower())))))\n",
    "short_desc_bag.to_pickle('short_desc_bag.pkl')\n",
    "short_desc_bag = None\n",
    "\n",
    "short_desc_bi_bag = df['short_desc'].apply(lambda string: Counter(get_bigrams(string)))\n",
    "short_desc_bi_bag.to_pickle('short_desc_bi_bag.pkl')\n",
    "short_desc_bi_bag = None\n",
    "\n",
    "short_desc_tri_bag = df['short_desc'].apply(lambda string: Counter(get_trigrams(string)))\n",
    "short_desc_tri_bag.to_pickle('short_desc_tri_bag.pkl')\n",
    "short_desc_tri_bag = None\n",
    "\n",
    "df.to_pickle('bug_info.pkl')\n",
    "df = None\n",
    "\n",
    "description = pd.read_sql('select longdescs.bug_id, longdescs.thetext from longdescs, (select bug_id, MIN(comment_id) as comment_id from longdescs group by bug_id) as t where longdescs.bug_id = t.bug_id and longdescs.comment_id = t.comment_id and longdescs.bug_id >= 537438 and longdescs.bug_id <= 622320', conn)\n",
    "\n",
    "description_bag = description['thetext'].apply(lambda string: Counter(filter(lambda x: x not in stopwords and x.isalpha(), map(lambda x: stemmer.stem(x), tokenizer.tokenize(string.lower())))))\n",
    "description_bag.to_pickle('description_bag.pkl')\n",
    "description_bag = None\n",
    "\n",
    "description_bi_bag = description['thetext'].apply(lambda string: Counter(get_bigrams(string)))\n",
    "description_bi_bag.to_pickle('description_bi_bag.pkl')\n",
    "description_bi_bag = None\n",
    "\n",
    "description_tri_bag = description['thetext'].apply(lambda string: Counter(get_trigrams(string)))\n",
    "description_tri_bag.to_pickle('description_tri_bag.pkl')\n",
    "description_tri_bag = None\n",
    "\n",
    "description.to_pickle('description.pkl')\n",
    "description = None\n",
    "\n",
    "bags = [None] * 6\n",
    "bags[0] = 'short_desc_bag.pkl'\n",
    "bags[1] = 'short_desc_bi_bag.pkl'\n",
    "bags[2] = 'short_desc_tri_bag.pkl'\n",
    "bags[3] = 'description_bag.pkl'\n",
    "bags[4] = 'description_bi_bag.pkl'\n",
    "bags[5] = 'description_tri_bag.pkl'\n",
    "\n",
    "all_words = set()\n",
    "for filename in bags:\n",
    "    series = pd.read_pickle(filename)\n",
    "    for data in series:\n",
    "        for word in data:\n",
    "            all_words.add(word)\n",
    "            \n",
    "dictionary = dict((v,k) for k, v in enumerate(all_words))\n",
    "\n",
    "all_words = None\n",
    "\n",
    "import pickle\n",
    "f = open('dictionary.pkl', 'wb')\n",
    "pickle.dump(dictionary, f)\n",
    "f.close()\n",
    "\n",
    "import pickle\n",
    "import pandas as pd\n",
    "f = open('dictionary.pkl', 'rb')\n",
    "dictionary = pickle.load(f)\n",
    "\n",
    "df = pd.read_pickle('bug_info.pkl')\n",
    "bags = [None] * 6\n",
    "bags[0] = 'short_desc_bag.pkl'\n",
    "bags[1] = 'short_desc_bi_bag.pkl'\n",
    "bags[2] = 'short_desc_tri_bag.pkl'\n",
    "bags[3] = 'description_bag.pkl'\n",
    "bags[4] = 'description_bi_bag.pkl'\n",
    "bags[5] = 'description_tri_bag.pkl'\n",
    "\n",
    "for filename in bags:\n",
    "    series = pd.read_pickle(filename)\n",
    "    df[filename[:-4]] = series\n",
    "\n",
    "modified = df['priority'].replace('--', 6).replace('P1', 1).replace('P2', 2).replace('P3', 3).replace('P4', 4).replace('P5', 5)\n",
    "df['priority'] = modified\n",
    "df.to_pickle('all_in_one.pkl')"
   ]
  },
  {
   "cell_type": "code",
   "execution_count": 19,
   "metadata": {},
   "outputs": [],
   "source": [
    "import pickle\n",
    "import pandas as pd\n",
    "f = open('dictionary.pkl', 'rb')\n",
    "dictionary = pickle.load(f)\n",
    "#df = pd.read_pickle('mini_all_in_one.pkl')\n",
    "df = pd.read_pickle('all_in_one.pkl')\n",
    "df.set_index('bug_id', inplace=True)\n",
    "lines = open('large-mozilla.txt').readlines()\n",
    "#lines = open('large-eclipse.txt').readlines()\n",
    "\n",
    "#ID   0\n",
    "#S-U  1\n",
    "#S-B  2\n",
    "#S-T  3\n",
    "#D-U  4\n",
    "#D-B  5\n",
    "#D-T  6\n",
    "#A-U  7\n",
    "#A-B  8\n",
    "#A-T  9\n",
    "#DID  10\n",
    "#VERSION       11\n",
    "#COMPONENT     12\n",
    "#SUB_COMPONENT 13\n",
    "#TYPE          14\n",
    "#PRIORITY      15\n",
    "with open('mozilla_initial_all.txt','w') as out:\n",
    "    for i in range(0, len(lines), 16):\n",
    "        ID = int(lines[i].strip().split('=')[1])\n",
    "        id_line = lines[i].strip()\n",
    "        did_line = lines[i + 10].strip()\n",
    "        version_line = lines[i + 11].strip()\n",
    "        type_line = lines[i + 14].strip()\n",
    "        if ID in df.index:\n",
    "            out.write(id_line)\n",
    "            out.write('\\n')\n",
    "            out.write( 'S-U=' + ','.join(map(lambda pair: str(dictionary[pair[0]]) + ':' + str(pair[1]), df.ix[ID, 'short_desc_bag'].items())))\n",
    "            out.write('\\n')\n",
    "            out.write( 'S-B=' + ','.join(map(lambda pair: str(dictionary[pair[0]]) + ':' + str(pair[1]), df.ix[ID, 'short_desc_bi_bag'].items())))\n",
    "            out.write('\\n')\n",
    "            out.write( 'S-T=' + ','.join(map(lambda pair: str(dictionary[pair[0]]) + ':' + str(pair[1]), df.ix[ID, 'short_desc_tri_bag'].items())))\n",
    "            out.write('\\n')\n",
    "            out.write( 'D-U=' + ','.join(map(lambda pair: str(dictionary[pair[0]]) + ':' + str(pair[1]), df.ix[ID, 'description_bag'].items())))\n",
    "            out.write('\\n')\n",
    "            out.write( 'D-B=' + ','.join(map(lambda pair: str(dictionary[pair[0]]) + ':' + str(pair[1]), df.ix[ID, 'description_bi_bag'].items())))\n",
    "            out.write('\\n')\n",
    "            out.write( 'D-T=' + ','.join(map(lambda pair: str(dictionary[pair[0]]) + ':' + str(pair[1]), df.ix[ID, 'description_tri_bag'].items())))\n",
    "            out.write('\\n')\n",
    "            out.write( 'A-U=' + ','.join(map(lambda pair: str(dictionary[pair[0]]) + ':' + str(pair[1]), df.ix[ID, 'short_desc_bag'].items() + df.ix[ID, 'description_bag'].items())))\n",
    "            out.write('\\n')\n",
    "            out.write( 'A-B=' + ','.join(map(lambda pair: str(dictionary[pair[0]]) + ':' + str(pair[1]), df.ix[ID, 'short_desc_bag'].items() + df.ix[ID, 'description_bi_bag'].items())))\n",
    "            out.write('\\n')\n",
    "            out.write( 'A-T=' + ','.join(map(lambda pair: str(dictionary[pair[0]]) + ':' + str(pair[1]), df.ix[ID, 'short_desc_bag'].items() + df.ix[ID, 'description_tri_bag'].items())))\n",
    "            out.write('\\n')\n",
    "            out.write( did_line)\n",
    "            out.write('\\n')\n",
    "            out.write( version_line)\n",
    "            out.write('\\n')\n",
    "            out.write( \"COMPONENT=\" + str(df.ix[ID, 'product_id']))\n",
    "            out.write('\\n')\n",
    "            out.write( \"SUB-COMPONENT=\" + str(df.ix[ID, 'component_id']))\n",
    "            out.write('\\n')\n",
    "            out.write( type_line)\n",
    "            out.write('\\n')\n",
    "            out.write( \"PRIORITY=\" + str(df.ix[ID, 'priority']))\n",
    "            out.write('\\n')"
   ]
  },
  {
   "cell_type": "code",
   "execution_count": null,
   "metadata": {
    "collapsed": true
   },
   "outputs": [],
   "source": []
  }
 ],
 "metadata": {
  "kernelspec": {
   "display_name": "Python 3",
   "language": "python",
   "name": "python3"
  },
  "language_info": {
   "codemirror_mode": {
    "name": "ipython",
    "version": 3
   },
   "file_extension": ".py",
   "mimetype": "text/x-python",
   "name": "python",
   "nbconvert_exporter": "python",
   "pygments_lexer": "ipython3",
   "version": "3.8.3"
  }
 },
 "nbformat": 4,
 "nbformat_minor": 1
}
