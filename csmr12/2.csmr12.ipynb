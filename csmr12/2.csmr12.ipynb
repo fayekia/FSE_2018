{
 "cells": [
  {
   "cell_type": "code",
   "execution_count": 1,
   "metadata": {
    "collapsed": true
   },
   "outputs": [],
   "source": [
    "from collections import defaultdict\n",
    "from collections import Counter\n",
    "import MySQLdb\n",
    "import pandas as pd\n",
    "import numpy as np\n",
    "import sys\n",
    "reload(sys)\n",
    "sys.setdefaultencoding('utf8')\n",
    "#import numexpr as ne\n",
    "#import matplotlib.pyplot as plt\n",
    "#%matplotlib inline"
   ]
  },
  {
   "cell_type": "code",
   "execution_count": 2,
   "metadata": {},
   "outputs": [],
   "source": [
    "#Eclipse\n",
    "conn = MySQLdb.connect(\n",
    "                     host='localhost', port=3306, user='***', passwd='***', db = 'eclipse2011',\n",
    "                     charset='utf8')"
   ]
  },
  {
   "cell_type": "code",
   "execution_count": 3,
   "metadata": {},
   "outputs": [],
   "source": [
    "bug = pd.read_sql(\"select bug_id, creation_ts, rep_platform, op_sys, assigned_to, reporter, bug_severity, priority, component_id, product_id from bugs where product_id <=5 and bug_status='RESOLVED' and creation_ts<'2007-11' and creation_ts>'2001-10'\", conn)"
   ]
  },
  {
   "cell_type": "code",
   "execution_count": 4,
   "metadata": {},
   "outputs": [
    {
     "data": {
      "text/plain": [
       "(89075, 10)"
      ]
     },
     "execution_count": 4,
     "metadata": {},
     "output_type": "execute_result"
    }
   ],
   "source": [
    "bug.shape"
   ]
  },
  {
   "cell_type": "code",
   "execution_count": 5,
   "metadata": {},
   "outputs": [],
   "source": [
    "for rownum in range(0, bug.shape[0]):\n",
    "    row = bug.iloc[rownum]\n",
    "    reporttime = str(row['creation_ts'])\n",
    "    year = reporttime[0:4]\n",
    "    month = reporttime[5:7]\n",
    "    day = reporttime[8:10]\n",
    "    try:\n",
    "        bug.ix[rownum, 'YEAR'] = year\n",
    "        bug.ix[rownum, 'MONTH'] = month\n",
    "        bug.ix[rownum, 'DAY'] = day\n",
    "    except Exception:\n",
    "        pass"
   ]
  },
  {
   "cell_type": "code",
   "execution_count": 6,
   "metadata": {
    "collapsed": true
   },
   "outputs": [],
   "source": [
    "bug.to_csv('csmr12/csmr12_eclipse_last.csv',index=False)"
   ]
  },
  {
   "cell_type": "code",
   "execution_count": 7,
   "metadata": {
    "collapsed": true
   },
   "outputs": [],
   "source": [
    "bugs_activity = pd.read_sql(\"select bug_id, bug_when, fieldid, removed, added from bugs_activity where fieldid in (3, 5, 7, 12, 13, 14, 15)\", conn)"
   ]
  },
  {
   "cell_type": "code",
   "execution_count": 8,
   "metadata": {
    "collapsed": true
   },
   "outputs": [],
   "source": [
    "bugs_activity = bugs_activity[bugs_activity.bug_id.isin(bug.bug_id)]"
   ]
  },
  {
   "cell_type": "code",
   "execution_count": 9,
   "metadata": {
    "collapsed": true
   },
   "outputs": [],
   "source": [
    "component_df = pd.read_sql('SELECT name,id FROM components ', conn)\n",
    "component_df.set_index('name', inplace=True)\n",
    "component_mapping = component_df['id'].to_dict()"
   ]
  },
  {
   "cell_type": "code",
   "execution_count": 10,
   "metadata": {
    "collapsed": true
   },
   "outputs": [],
   "source": [
    "product_df = pd.read_sql('SELECT name,id FROM products ', conn)\n",
    "product_df.set_index('name', inplace=True)\n",
    "product_mapping = product_df['id'].to_dict()"
   ]
  },
  {
   "cell_type": "code",
   "execution_count": 11,
   "metadata": {},
   "outputs": [
    {
     "data": {
      "text/html": [
       "<div style=\"max-height:1000px;max-width:1500px;overflow:auto;\">\n",
       "<table border=\"1\" class=\"dataframe\">\n",
       "  <thead>\n",
       "    <tr style=\"text-align: right;\">\n",
       "      <th></th>\n",
       "      <th>creation_ts</th>\n",
       "      <th>rep_platform</th>\n",
       "      <th>op_sys</th>\n",
       "      <th>assigned_to</th>\n",
       "      <th>reporter</th>\n",
       "      <th>bug_severity</th>\n",
       "      <th>priority</th>\n",
       "      <th>component_id</th>\n",
       "      <th>product_id</th>\n",
       "      <th>YEAR</th>\n",
       "      <th>MONTH</th>\n",
       "      <th>DAY</th>\n",
       "    </tr>\n",
       "    <tr>\n",
       "      <th>bug_id</th>\n",
       "      <th></th>\n",
       "      <th></th>\n",
       "      <th></th>\n",
       "      <th></th>\n",
       "      <th></th>\n",
       "      <th></th>\n",
       "      <th></th>\n",
       "      <th></th>\n",
       "      <th></th>\n",
       "      <th></th>\n",
       "      <th></th>\n",
       "      <th></th>\n",
       "    </tr>\n",
       "  </thead>\n",
       "  <tbody>\n",
       "    <tr>\n",
       "      <th>2</th>\n",
       "      <td>2001-10-10 21:34:47</td>\n",
       "      <td>All</td>\n",
       "      <td>All</td>\n",
       "      <td>25</td>\n",
       "      <td>21</td>\n",
       "      <td>normal</td>\n",
       "      <td>P5</td>\n",
       "      <td>6</td>\n",
       "      <td>1</td>\n",
       "      <td>2001</td>\n",
       "      <td>10</td>\n",
       "      <td>10</td>\n",
       "    </tr>\n",
       "    <tr>\n",
       "      <th>3</th>\n",
       "      <td>2001-10-10 21:34:48</td>\n",
       "      <td>All</td>\n",
       "      <td>Windows All</td>\n",
       "      <td>25</td>\n",
       "      <td>57</td>\n",
       "      <td>normal</td>\n",
       "      <td>P5</td>\n",
       "      <td>6</td>\n",
       "      <td>1</td>\n",
       "      <td>2001</td>\n",
       "      <td>10</td>\n",
       "      <td>10</td>\n",
       "    </tr>\n",
       "    <tr>\n",
       "      <th>4</th>\n",
       "      <td>2001-10-10 21:34:49</td>\n",
       "      <td>All</td>\n",
       "      <td>All</td>\n",
       "      <td>37</td>\n",
       "      <td>53</td>\n",
       "      <td>normal</td>\n",
       "      <td>P5</td>\n",
       "      <td>6</td>\n",
       "      <td>1</td>\n",
       "      <td>2001</td>\n",
       "      <td>10</td>\n",
       "      <td>10</td>\n",
       "    </tr>\n",
       "    <tr>\n",
       "      <th>5</th>\n",
       "      <td>2001-10-10 21:34:50</td>\n",
       "      <td>All</td>\n",
       "      <td>Windows NT</td>\n",
       "      <td>10</td>\n",
       "      <td>51</td>\n",
       "      <td>normal</td>\n",
       "      <td>P3</td>\n",
       "      <td>6</td>\n",
       "      <td>1</td>\n",
       "      <td>2001</td>\n",
       "      <td>10</td>\n",
       "      <td>10</td>\n",
       "    </tr>\n",
       "    <tr>\n",
       "      <th>6</th>\n",
       "      <td>2001-10-10 21:34:51</td>\n",
       "      <td>All</td>\n",
       "      <td>All</td>\n",
       "      <td>14</td>\n",
       "      <td>48</td>\n",
       "      <td>normal</td>\n",
       "      <td>P5</td>\n",
       "      <td>6</td>\n",
       "      <td>1</td>\n",
       "      <td>2001</td>\n",
       "      <td>10</td>\n",
       "      <td>10</td>\n",
       "    </tr>\n",
       "  </tbody>\n",
       "</table>\n",
       "</div>"
      ],
      "text/plain": [
       "               creation_ts rep_platform       op_sys  assigned_to  reporter  \\\n",
       "bug_id                                                                        \n",
       "2      2001-10-10 21:34:47          All          All           25        21   \n",
       "3      2001-10-10 21:34:48          All  Windows All           25        57   \n",
       "4      2001-10-10 21:34:49          All          All           37        53   \n",
       "5      2001-10-10 21:34:50          All   Windows NT           10        51   \n",
       "6      2001-10-10 21:34:51          All          All           14        48   \n",
       "\n",
       "       bug_severity priority  component_id  product_id  YEAR MONTH DAY  \n",
       "bug_id                                                                  \n",
       "2            normal       P5             6           1  2001    10  10  \n",
       "3            normal       P5             6           1  2001    10  10  \n",
       "4            normal       P5             6           1  2001    10  10  \n",
       "5            normal       P3             6           1  2001    10  10  \n",
       "6            normal       P5             6           1  2001    10  10  "
      ]
     },
     "execution_count": 11,
     "metadata": {},
     "output_type": "execute_result"
    }
   ],
   "source": [
    "bug.set_index('bug_id', inplace=True)\n",
    "bug.head()"
   ]
  },
  {
   "cell_type": "code",
   "execution_count": 12,
   "metadata": {},
   "outputs": [],
   "source": [
    "bugs_activity.sort('bug_when', ascending=False, inplace=True)\n",
    "for rownum in range(0, bugs_activity.shape[0]):\n",
    "    row = bugs_activity.iloc[rownum]\n",
    "    bug_id = row['bug_id']\n",
    "    field = row['fieldid']\n",
    "    removed = row['removed']\n",
    "    try:\n",
    "        if field == 3:\n",
    "            bug.ix[bug_id, 'product_id'] = product_mapping[removed]\n",
    "        elif field == 5:\n",
    "            bug.ix[bug_id, 'rep_platform'] = removed\n",
    "        elif field == 7:\n",
    "            bug.ix[bug_id, 'op_sys'] = removed\n",
    "        elif field == 12:\n",
    "            bug.ix[bug_id, 'bug_severity'] = removed\n",
    "        elif field == 13:\n",
    "            bug.ix[bug_id, 'priority'] = removed\n",
    "        elif field == 14:\n",
    "            bug.ix[bug_id, 'component_id'] = component_mapping[removed]\n",
    "        elif field == 15:\n",
    "            bug.ix[bug_id, 'assigned_to'] = removed\n",
    "    except Exception:\n",
    "        pass"
   ]
  },
  {
   "cell_type": "code",
   "execution_count": 13,
   "metadata": {},
   "outputs": [],
   "source": [
    "bug = bug.reset_index()\n",
    "bug.to_csv('csmr12/csmr12_eclipse_initial.csv',index=False)"
   ]
  },
  {
   "cell_type": "code",
   "execution_count": 14,
   "metadata": {},
   "outputs": [],
   "source": [
    "#bug_resolvetime = pd.read_sql(\"select bug_id, max(bug_when) as fixtime from bugs_activity where fieldid=8 and added='RESOLVED' group by bug_id \", conn)\n",
    "bug_resolvetime = pd.read_sql(\"select bug_id, delta_ts from bugs \", conn)\n",
    "bug_resolvetime = pd.merge(bug_resolvetime, bug[['bug_id','creation_ts']], on='bug_id')\n",
    "bug_resolvetime['interval'] = bug_resolvetime['delta_ts'] - bug_resolvetime['creation_ts']\n",
    "bug_resolvetime.interval = bug_resolvetime.interval.astype('timedelta64[h]')\n",
    "bug_resolvetime[['bug_id','interval']].to_csv('csmr12/csmr12_eclipse_label.csv',index=False)"
   ]
  },
  {
   "cell_type": "code",
   "execution_count": null,
   "metadata": {
    "collapsed": true
   },
   "outputs": [],
   "source": []
  },
  {
   "cell_type": "code",
   "execution_count": null,
   "metadata": {
    "collapsed": true
   },
   "outputs": [],
   "source": []
  },
  {
   "cell_type": "code",
   "execution_count": null,
   "metadata": {
    "collapsed": true
   },
   "outputs": [],
   "source": []
  },
  {
   "cell_type": "code",
   "execution_count": 1,
   "metadata": {},
   "outputs": [
    {
     "data": {
      "text/plain": [
       "(89075, 13)"
      ]
     },
     "execution_count": 1,
     "metadata": {},
     "output_type": "execute_result"
    }
   ],
   "source": [
    "#no filter\n",
    "import pandas as pd\n",
    "csmr12_eclipse_initial = pd.read_csv('csmr12/csmr12_eclipse_initial.csv')\n",
    "csmr12_eclipse_last = pd.read_csv('csmr12/csmr12_eclipse_last.csv')\n",
    "csmr12_eclipse_label = pd.read_csv('csmr12/csmr12_eclipse_label.csv')\n",
    "csmr12_eclipse_userid = pd.read_csv('bugs_assignee_init_final.txt', names=['bug_id', 'init', 'final'], sep=';')\n",
    "csmr12_eclipse_initial.shape"
   ]
  },
  {
   "cell_type": "code",
   "execution_count": 3,
   "metadata": {},
   "outputs": [],
   "source": [
    "#issameproduct = pd.merge(csmr12_eclipse_initial[['bug_id','product_id']],csmr12_eclipse_last[['bug_id','product_id']], on='bug_id')"
   ]
  },
  {
   "cell_type": "code",
   "execution_count": 4,
   "metadata": {},
   "outputs": [
    {
     "data": {
      "text/plain": [
       "(83252, 3)"
      ]
     },
     "execution_count": 4,
     "metadata": {},
     "output_type": "execute_result"
    }
   ],
   "source": [
    "#issameproduct = issameproduct[issameproduct.product_id_x==issameproduct.product_id_y]\n",
    "#issameproduct.shape"
   ]
  },
  {
   "cell_type": "code",
   "execution_count": 5,
   "metadata": {},
   "outputs": [
    {
     "data": {
      "text/plain": [
       "(83252, 13)"
      ]
     },
     "execution_count": 5,
     "metadata": {},
     "output_type": "execute_result"
    }
   ],
   "source": [
    "#csmr12_eclipse_initial = pd.merge(csmr12_eclipse_initial, issameproduct[['bug_id']], on='bug_id')\n",
    "#csmr12_eclipse_initial.shape"
   ]
  },
  {
   "cell_type": "code",
   "execution_count": 6,
   "metadata": {
    "collapsed": true
   },
   "outputs": [],
   "source": [
    "#csmr12_eclipse_last = pd.merge(csmr12_eclipse_last, issameproduct[['bug_id']], on='bug_id')\n",
    "#csmr12_eclipse_label = pd.merge(csmr12_eclipse_label, issameproduct[['bug_id']], on='bug_id')"
   ]
  },
  {
   "cell_type": "code",
   "execution_count": 2,
   "metadata": {},
   "outputs": [],
   "source": [
    "csmr12_eclipse_initial = pd.merge(csmr12_eclipse_initial, csmr12_eclipse_userid[['bug_id', 'init']], on='bug_id')\n",
    "csmr12_eclipse_initial['assigned_to'] = csmr12_eclipse_initial['init']\n",
    "del csmr12_eclipse_initial['init']\n",
    "del csmr12_eclipse_initial['creation_ts']\n",
    "#del csmr12_eclipse_initial['index']\n",
    "csmr12_eclipse_initial = pd.merge(csmr12_eclipse_initial, csmr12_eclipse_label, on='bug_id')"
   ]
  },
  {
   "cell_type": "code",
   "execution_count": 3,
   "metadata": {
    "collapsed": true
   },
   "outputs": [],
   "source": [
    "median_interval = csmr12_eclipse_initial[['product_id', 'interval']].groupby('product_id').median().reset_index()\n",
    "median_interval['med'] = median_interval['interval']\n",
    "del median_interval['interval']\n",
    "csmr12_eclipse_initial = pd.merge(csmr12_eclipse_initial, median_interval, on='product_id')\n",
    "csmr12_eclipse_initial.loc[csmr12_eclipse_initial.interval<=csmr12_eclipse_initial.med, 'label'] = 'fast'\n",
    "csmr12_eclipse_initial.loc[csmr12_eclipse_initial.interval>csmr12_eclipse_initial.med, 'label'] = 'slow'\n",
    "csmr12_eclipse_initial[csmr12_eclipse_initial.product_id==1].to_csv('csmr12/csmr12_eclipse_init_Platform_nofilter.csv',index=False)\n",
    "csmr12_eclipse_initial[csmr12_eclipse_initial.product_id==2].to_csv('csmr12/csmr12_eclipse_init_PDE_nofilter.csv',index=False)\n",
    "csmr12_eclipse_initial[csmr12_eclipse_initial.product_id==3].to_csv('csmr12/csmr12_eclipse_init_JDT_nofilter.csv',index=False)\n",
    "csmr12_eclipse_initial[csmr12_eclipse_initial.product_id==4].to_csv('csmr12/csmr12_eclipse_init_CDT_nofilter.csv',index=False)\n",
    "csmr12_eclipse_initial[csmr12_eclipse_initial.product_id==5].to_csv('csmr12/csmr12_eclipse_init_GEF_nofilter.csv',index=False)\n",
    "\n",
    "csmr12_eclipse_last = pd.merge(csmr12_eclipse_last, csmr12_eclipse_userid[['bug_id', 'final']], on='bug_id')\n",
    "csmr12_eclipse_last['assigned_to'] = csmr12_eclipse_last['final']\n",
    "del csmr12_eclipse_last['final']\n",
    "del csmr12_eclipse_last['creation_ts']\n",
    "csmr12_eclipse_last = pd.merge(csmr12_eclipse_last, csmr12_eclipse_label, on='bug_id')\n",
    "median_interval = csmr12_eclipse_last[['product_id', 'interval']].groupby('product_id').median().reset_index()\n",
    "median_interval['med'] = median_interval['interval']\n",
    "del median_interval['interval']\n",
    "csmr12_eclipse_last = pd.merge(csmr12_eclipse_last, median_interval, on='product_id')\n",
    "csmr12_eclipse_last.loc[csmr12_eclipse_last.interval<=csmr12_eclipse_last.med, 'label'] = 'fast'\n",
    "csmr12_eclipse_last.loc[csmr12_eclipse_last.interval>csmr12_eclipse_last.med, 'label'] = 'slow'\n",
    "csmr12_eclipse_last[csmr12_eclipse_last.product_id==1].to_csv('csmr12/csmr12_eclipse_last_Platform_nofilter.csv',index=False)\n",
    "csmr12_eclipse_last[csmr12_eclipse_last.product_id==2].to_csv('csmr12/csmr12_eclipse_last_PDE_nofilter.csv',index=False)\n",
    "csmr12_eclipse_last[csmr12_eclipse_last.product_id==3].to_csv('csmr12/csmr12_eclipse_last_JDT_nofilter.csv',index=False)\n",
    "csmr12_eclipse_last[csmr12_eclipse_last.product_id==4].to_csv('csmr12/csmr12_eclipse_last_CDT_nofilter.csv',index=False)\n",
    "csmr12_eclipse_last[csmr12_eclipse_last.product_id==5].to_csv('csmr12/csmr12_eclipse_last_GEF_nofilter.csv',index=False)"
   ]
  },
  {
   "cell_type": "code",
   "execution_count": null,
   "metadata": {
    "collapsed": true
   },
   "outputs": [],
   "source": []
  },
  {
   "cell_type": "code",
   "execution_count": null,
   "metadata": {
    "collapsed": true
   },
   "outputs": [],
   "source": []
  },
  {
   "cell_type": "code",
   "execution_count": 1,
   "metadata": {},
   "outputs": [],
   "source": [
    "#filter\n",
    "import pandas as pd\n",
    "from __future__ import division\n",
    "from collections import defaultdict\n",
    "import random\n",
    "\n",
    "csmr12_eclipse_initial = pd.read_csv('csmr12/csmr12_eclipse_initial.csv')\n",
    "csmr12_eclipse_last = pd.read_csv('csmr12/csmr12_eclipse_last.csv')\n",
    "csmr12_eclipse_label = pd.read_csv('csmr12/csmr12_eclipse_label.csv')\n",
    "csmr12_eclipse_userid = pd.read_csv('bugs_assignee_init_final.txt', names=['bug_id', 'init', 'final'], sep=';')"
   ]
  },
  {
   "cell_type": "code",
   "execution_count": 2,
   "metadata": {
    "collapsed": true
   },
   "outputs": [],
   "source": [
    "#issameproduct = pd.merge(csmr12_eclipse_initial[['bug_id','product_id']],csmr12_eclipse_last[['bug_id','product_id']], on='bug_id')\n",
    "#issameproduct = issameproduct[issameproduct.product_id_x==issameproduct.product_id_y]\n",
    "#csmr12_eclipse_initial = pd.merge(csmr12_eclipse_initial, issameproduct[['bug_id']], on='bug_id')\n",
    "#csmr12_eclipse_last = pd.merge(csmr12_eclipse_last, issameproduct[['bug_id']], on='bug_id')\n",
    "#csmr12_eclipse_label = pd.merge(csmr12_eclipse_label, issameproduct[['bug_id']], on='bug_id')"
   ]
  },
  {
   "cell_type": "code",
   "execution_count": 2,
   "metadata": {},
   "outputs": [],
   "source": [
    "csmr12_eclipse_initial = pd.merge(csmr12_eclipse_initial, csmr12_eclipse_userid[['bug_id', 'init']], on='bug_id')\n",
    "csmr12_eclipse_initial['assigned_to'] = csmr12_eclipse_initial['init']\n",
    "del csmr12_eclipse_initial['init']\n",
    "del csmr12_eclipse_initial['creation_ts']\n",
    "#del csmr12_eclipse_initial['index']\n",
    "csmr12_eclipse_initial = pd.merge(csmr12_eclipse_initial, csmr12_eclipse_label, on='bug_id')\n",
    "threshold_interval = csmr12_eclipse_initial[['product_id', 'interval']].groupby('product_id').quantile(0.125).reset_index()\n",
    "threshold_interval['threshold'] = threshold_interval['interval']\n",
    "del threshold_interval['interval']\n",
    "csmr12_eclipse_initial = pd.merge(csmr12_eclipse_initial, threshold_interval, on='product_id')\n",
    "csmr12_eclipse_initial = csmr12_eclipse_initial[csmr12_eclipse_initial.interval>csmr12_eclipse_initial.threshold]\n",
    "\n",
    "median_interval = csmr12_eclipse_initial[['product_id', 'interval']].groupby('product_id').median().reset_index()\n",
    "median_interval['med'] = median_interval['interval']\n",
    "del median_interval['interval']\n",
    "csmr12_eclipse_initial = pd.merge(csmr12_eclipse_initial, median_interval, on='product_id')\n",
    "csmr12_eclipse_initial.loc[csmr12_eclipse_initial.interval<=csmr12_eclipse_initial.med, 'label'] = 'fast'\n",
    "csmr12_eclipse_initial.loc[csmr12_eclipse_initial.interval>csmr12_eclipse_initial.med, 'label'] = 'slow'"
   ]
  },
  {
   "cell_type": "code",
   "execution_count": 3,
   "metadata": {},
   "outputs": [],
   "source": [
    "csmr12_eclipse_last = pd.merge(csmr12_eclipse_last, csmr12_eclipse_userid[['bug_id', 'final']], on='bug_id')\n",
    "csmr12_eclipse_last['assigned_to'] = csmr12_eclipse_last['final']\n",
    "del csmr12_eclipse_last['final']\n",
    "del csmr12_eclipse_last['creation_ts']\n",
    "csmr12_eclipse_last = pd.merge(csmr12_eclipse_last, csmr12_eclipse_label, on='bug_id')\n",
    "threshold_interval = csmr12_eclipse_last[['product_id', 'interval']].groupby('product_id').quantile(0.125).reset_index()\n",
    "threshold_interval['threshold'] = threshold_interval['interval']\n",
    "del threshold_interval['interval']\n",
    "csmr12_eclipse_last = pd.merge(csmr12_eclipse_last, threshold_interval, on='product_id')\n",
    "csmr12_eclipse_last = csmr12_eclipse_last[csmr12_eclipse_last.interval>csmr12_eclipse_last.threshold]\n",
    "\n",
    "median_interval = csmr12_eclipse_last[['product_id', 'interval']].groupby('product_id').median().reset_index()\n",
    "median_interval['med'] = median_interval['interval']\n",
    "del median_interval['interval']\n",
    "csmr12_eclipse_last = pd.merge(csmr12_eclipse_last, median_interval, on='product_id')\n",
    "csmr12_eclipse_last.loc[csmr12_eclipse_last.interval<=csmr12_eclipse_last.med, 'label'] = 'fast'\n",
    "csmr12_eclipse_last.loc[csmr12_eclipse_last.interval>csmr12_eclipse_last.med, 'label'] = 'slow'"
   ]
  },
  {
   "cell_type": "code",
   "execution_count": 4,
   "metadata": {
    "collapsed": true
   },
   "outputs": [],
   "source": [
    "csmr12_eclipse_initial[csmr12_eclipse_initial.product_id==1].to_csv('csmr12/csmr12_eclipse_init_Platform_filter.csv',index=False)\n",
    "csmr12_eclipse_initial[csmr12_eclipse_initial.product_id==2].to_csv('csmr12/csmr12_eclipse_init_PDE_filter.csv',index=False)\n",
    "csmr12_eclipse_initial[csmr12_eclipse_initial.product_id==3].to_csv('csmr12/csmr12_eclipse_init_JDT_filter.csv',index=False)\n",
    "csmr12_eclipse_initial[csmr12_eclipse_initial.product_id==4].to_csv('csmr12/csmr12_eclipse_init_CDT_filter.csv',index=False)\n",
    "csmr12_eclipse_initial[csmr12_eclipse_initial.product_id==5].to_csv('csmr12/csmr12_eclipse_init_GEF_filter.csv',index=False)\n",
    "\n",
    "csmr12_eclipse_last[csmr12_eclipse_last.product_id==1].to_csv('csmr12/csmr12_eclipse_last_Platform_filter.csv',index=False)\n",
    "csmr12_eclipse_last[csmr12_eclipse_last.product_id==2].to_csv('csmr12/csmr12_eclipse_last_PDE_filter.csv',index=False)\n",
    "csmr12_eclipse_last[csmr12_eclipse_last.product_id==3].to_csv('csmr12/csmr12_eclipse_last_JDT_filter.csv',index=False)\n",
    "csmr12_eclipse_last[csmr12_eclipse_last.product_id==4].to_csv('csmr12/csmr12_eclipse_last_CDT_filter.csv',index=False)\n",
    "csmr12_eclipse_last[csmr12_eclipse_last.product_id==5].to_csv('csmr12/csmr12_eclipse_last_GEF_filter.csv',index=False)"
   ]
  },
  {
   "cell_type": "code",
   "execution_count": null,
   "metadata": {
    "collapsed": true
   },
   "outputs": [],
   "source": []
  },
  {
   "cell_type": "code",
   "execution_count": null,
   "metadata": {
    "collapsed": true
   },
   "outputs": [],
   "source": []
  },
  {
   "cell_type": "code",
   "execution_count": null,
   "metadata": {
    "collapsed": true
   },
   "outputs": [],
   "source": []
  },
  {
   "cell_type": "code",
   "execution_count": 1,
   "metadata": {
    "collapsed": true
   },
   "outputs": [],
   "source": [
    "from collections import defaultdict\n",
    "from collections import Counter\n",
    "import MySQLdb\n",
    "import pandas as pd\n",
    "import numpy as np\n",
    "import sys\n",
    "reload(sys)\n",
    "sys.setdefaultencoding('utf8')\n",
    "#import numexpr as ne\n",
    "#import matplotlib.pyplot as plt\n",
    "#%matplotlib inline\n",
    "\n",
    "#Mozilla\n",
    "conn = MySQLdb.connect(\n",
    "                     host='localhost', port=3306, user='***', passwd='***', db = 'mozilla2016',\n",
    "                     charset='utf8')\n",
    "\n",
    "bug = pd.read_sql(\"select bug_id, creation_ts, rep_platform, op_sys, assigned_to, reporter, bug_severity, priority, component_id, product_id from bugs where product_id in (1, 19, 21, 23, 25) and bug_status='RESOLVED' and creation_ts<'2008-08'\", conn)\n",
    "\n",
    "for rownum in range(0, bug.shape[0]):\n",
    "    row = bug.iloc[rownum]\n",
    "    reporttime = str(row['creation_ts'])\n",
    "    year = reporttime[0:4]\n",
    "    month = reporttime[5:7]\n",
    "    day = reporttime[8:10]\n",
    "    bug.ix[rownum, 'YEAR'] = year\n",
    "    bug.ix[rownum, 'MONTH'] = month\n",
    "    bug.ix[rownum, 'DAY'] = day"
   ]
  },
  {
   "cell_type": "code",
   "execution_count": 2,
   "metadata": {},
   "outputs": [],
   "source": [
    "bug.to_csv('csmr12/csmr12_mozilla_last.csv',index=False)\n",
    "bugs_activity = pd.read_sql(\"select bug_id, bug_when, fieldid, removed, added from bugs_activity where fieldid in (25, 27, 28, 31, 32, 33, 34)\", conn)\n",
    "bugs_activity = bugs_activity[bugs_activity.bug_id.isin(bug.bug_id)]\n",
    "\n",
    "component_df = pd.read_sql('SELECT  name,id FROM components ', conn)\n",
    "component_df.set_index('name', inplace=True)\n",
    "component_mapping = component_df['id'].to_dict()\n",
    "\n",
    "product_df = pd.read_sql('SELECT name,id FROM products ', conn)\n",
    "product_df.set_index('name', inplace=True)\n",
    "product_mapping = product_df['id'].to_dict()\n",
    "\n",
    "user_df = pd.read_sql('SELECT  login_name, userid FROM profiles ', conn)\n",
    "user_df.set_index('login_name', inplace=True)\n",
    "user_mapping = user_df['userid'].to_dict()\n",
    "\n",
    "bug.set_index('bug_id', inplace=True)\n",
    "bugs_activity.sort('bug_when', ascending=False, inplace=True)"
   ]
  },
  {
   "cell_type": "code",
   "execution_count": 3,
   "metadata": {
    "collapsed": true
   },
   "outputs": [],
   "source": [
    "for rownum in range(0, bugs_activity.shape[0]):\n",
    "    row = bugs_activity.iloc[rownum]\n",
    "    bug_id = row['bug_id']\n",
    "    field = row['fieldid']\n",
    "    removed = row['removed']\n",
    "    try:\n",
    "        if field == 25:\n",
    "            bug.ix[bug_id, 'product_id'] = product_mapping[removed]\n",
    "        elif field == 27:\n",
    "            bug.ix[bug_id, 'rep_platform'] = removed\n",
    "        elif field == 28:\n",
    "            bug.ix[bug_id, 'op_sys'] = removed\n",
    "        elif field == 31:\n",
    "            bug.ix[bug_id, 'bug_severity'] = removed\n",
    "        elif field == 32:\n",
    "            bug.ix[bug_id, 'priority'] = removed\n",
    "        elif field == 33:\n",
    "            bug.ix[bug_id, 'component_id'] = component_mapping[removed]\n",
    "        elif field == 34:\n",
    "            bug.ix[bug_id, 'assigned_to'] = user_mapping[removed]\n",
    "    except Exception:\n",
    "        pass"
   ]
  },
  {
   "cell_type": "code",
   "execution_count": 4,
   "metadata": {},
   "outputs": [],
   "source": [
    "    \n",
    "bug = bug.reset_index()\n",
    "bug.to_csv('csmr12/csmr12_mozilla_initial.csv',index=False)\n",
    "\n",
    "\n",
    "bug_resolvetime = pd.read_sql(\"select bug_id, delta_ts from bugs \", conn)\n",
    "bug_resolvetime = pd.merge(bug_resolvetime, bug[['bug_id','creation_ts']], on='bug_id')\n",
    "bug_resolvetime['interval'] = bug_resolvetime['delta_ts'] - bug_resolvetime['creation_ts']\n",
    "bug_resolvetime.interval = bug_resolvetime.interval.astype('timedelta64[h]')\n",
    "bug_resolvetime[['bug_id','interval']].to_csv('csmr12/csmr12_mozilla_label.csv',index=False)"
   ]
  },
  {
   "cell_type": "code",
   "execution_count": null,
   "metadata": {
    "collapsed": true
   },
   "outputs": [],
   "source": []
  },
  {
   "cell_type": "code",
   "execution_count": 1,
   "metadata": {
    "collapsed": true
   },
   "outputs": [],
   "source": [
    "#no filter\n",
    "import pandas as pd\n",
    "csmr12_mozilla_initial = pd.read_csv('csmr12/csmr12_mozilla_initial.csv')\n",
    "csmr12_mozilla_last = pd.read_csv('csmr12/csmr12_mozilla_last.csv')\n",
    "csmr12_mozilla_label = pd.read_csv('csmr12/csmr12_mozilla_label.csv')\n",
    "\n",
    "#issameproduct = pd.merge(csmr12_mozilla_initial[['bug_id','product_id']],csmr12_mozilla_last[['bug_id','product_id']], on='bug_id')\n",
    "#issameproduct = issameproduct[issameproduct.product_id_x==issameproduct.product_id_y]\n",
    "#csmr12_mozilla_initial = pd.merge(csmr12_mozilla_initial, issameproduct[['bug_id']], on='bug_id')\n",
    "#csmr12_mozilla_last = pd.merge(csmr12_mozilla_last, issameproduct[['bug_id']], on='bug_id')\n",
    "#csmr12_mozilla_label = pd.merge(csmr12_mozilla_label, issameproduct[['bug_id']], on='bug_id')\n",
    "\n",
    "del csmr12_mozilla_initial['creation_ts']\n",
    "csmr12_mozilla_initial = pd.merge(csmr12_mozilla_initial, csmr12_mozilla_label, on='bug_id')\n",
    "\n",
    "median_interval = csmr12_mozilla_initial[['product_id', 'interval']].groupby('product_id').median().reset_index()\n",
    "median_interval['med'] = median_interval['interval']\n",
    "del median_interval['interval']\n",
    "csmr12_mozilla_initial = pd.merge(csmr12_mozilla_initial, median_interval, on='product_id')\n",
    "csmr12_mozilla_initial.loc[csmr12_mozilla_initial.interval<=csmr12_mozilla_initial.med, 'label'] = 'fast'\n",
    "csmr12_mozilla_initial.loc[csmr12_mozilla_initial.interval>csmr12_mozilla_initial.med, 'label'] = 'slow'\n",
    "\n",
    "csmr12_mozilla_initial[csmr12_mozilla_initial.product_id==1].to_csv('csmr12/csmr12_mozilla_init_Core_nofilter.csv',index=False)\n",
    "csmr12_mozilla_initial[csmr12_mozilla_initial.product_id==19].to_csv('csmr12/csmr12_mozilla_init_Bugzilla_nofilter.csv',index=False)\n",
    "csmr12_mozilla_initial[csmr12_mozilla_initial.product_id==21].to_csv('csmr12/csmr12_mozilla_init_Firefox_nofilter.csv',index=False)\n",
    "csmr12_mozilla_initial[csmr12_mozilla_initial.product_id==23].to_csv('csmr12/csmr12_mozilla_init_Thunderbird_nofilter.csv',index=False)\n",
    "csmr12_mozilla_initial[csmr12_mozilla_initial.product_id==25].to_csv('csmr12/csmr12_mozilla_init_Seamonkey_nofilter.csv',index=False)\n",
    "\n",
    "\n",
    "\n",
    "del csmr12_mozilla_last['creation_ts']\n",
    "csmr12_mozilla_last = pd.merge(csmr12_mozilla_last, csmr12_mozilla_label, on='bug_id')\n",
    "\n",
    "median_interval = csmr12_mozilla_last[['product_id', 'interval']].groupby('product_id').median().reset_index()\n",
    "median_interval['med'] = median_interval['interval']\n",
    "del median_interval['interval']\n",
    "csmr12_mozilla_last = pd.merge(csmr12_mozilla_last, median_interval, on='product_id')\n",
    "csmr12_mozilla_last.loc[csmr12_mozilla_last.interval<=csmr12_mozilla_last.med, 'label'] = 'fast'\n",
    "csmr12_mozilla_last.loc[csmr12_mozilla_last.interval>csmr12_mozilla_last.med, 'label'] = 'slow'\n",
    "\n",
    "csmr12_mozilla_last[csmr12_mozilla_last.product_id==1].to_csv('csmr12/csmr12_mozilla_last_Core_nofilter.csv',index=False)\n",
    "csmr12_mozilla_last[csmr12_mozilla_last.product_id==19].to_csv('csmr12/csmr12_mozilla_last_Bugzilla_nofilter.csv',index=False)\n",
    "csmr12_mozilla_last[csmr12_mozilla_last.product_id==21].to_csv('csmr12/csmr12_mozilla_last_Firefox_nofilter.csv',index=False)\n",
    "csmr12_mozilla_last[csmr12_mozilla_last.product_id==23].to_csv('csmr12/csmr12_mozilla_last_Thunderbird_nofilter.csv',index=False)\n",
    "csmr12_mozilla_last[csmr12_mozilla_last.product_id==25].to_csv('csmr12/csmr12_mozilla_last_Seamonkey_nofilter.csv',index=False)"
   ]
  },
  {
   "cell_type": "code",
   "execution_count": 8,
   "metadata": {},
   "outputs": [
    {
     "data": {
      "text/plain": [
       "(167894, 3)"
      ]
     },
     "execution_count": 8,
     "metadata": {},
     "output_type": "execute_result"
    }
   ],
   "source": [
    "issameproduct.shape"
   ]
  },
  {
   "cell_type": "code",
   "execution_count": null,
   "metadata": {
    "collapsed": true
   },
   "outputs": [],
   "source": []
  },
  {
   "cell_type": "code",
   "execution_count": 1,
   "metadata": {
    "collapsed": true
   },
   "outputs": [],
   "source": [
    "#filter\n",
    "import pandas as pd\n",
    "\n",
    "csmr12_mozilla_initial = pd.read_csv('csmr12/csmr12_mozilla_initial.csv')\n",
    "csmr12_mozilla_last = pd.read_csv('csmr12/csmr12_mozilla_last.csv')\n",
    "csmr12_mozilla_label = pd.read_csv('csmr12/csmr12_mozilla_label.csv')\n",
    "\n",
    "\n",
    "#issameproduct = pd.merge(csmr12_mozilla_initial[['bug_id','product_id']],csmr12_mozilla_last[['bug_id','product_id']], on='bug_id')\n",
    "#issameproduct = issameproduct[issameproduct.product_id_x==issameproduct.product_id_y]\n",
    "#csmr12_mozilla_initial = pd.merge(csmr12_mozilla_initial, issameproduct[['bug_id']], on='bug_id')\n",
    "#csmr12_mozilla_last = pd.merge(csmr12_mozilla_last, issameproduct[['bug_id']], on='bug_id')\n",
    "#csmr12_mozilla_label = pd.merge(csmr12_mozilla_label, issameproduct[['bug_id']], on='bug_id')\n",
    "\n",
    "\n",
    "del csmr12_mozilla_initial['creation_ts']\n",
    "csmr12_mozilla_initial = pd.merge(csmr12_mozilla_initial, csmr12_mozilla_label, on='bug_id')\n",
    "threshold_interval = csmr12_mozilla_initial[['product_id', 'interval']].groupby('product_id').quantile(0.125).reset_index()\n",
    "threshold_interval['threshold'] = threshold_interval['interval']\n",
    "del threshold_interval['interval']\n",
    "csmr12_mozilla_initial = pd.merge(csmr12_mozilla_initial, threshold_interval, on='product_id')\n",
    "csmr12_mozilla_initial = csmr12_mozilla_initial[csmr12_mozilla_initial.interval>csmr12_mozilla_initial.threshold]\n",
    "\n",
    "median_interval = csmr12_mozilla_initial[['product_id', 'interval']].groupby('product_id').median().reset_index()\n",
    "median_interval['med'] = median_interval['interval']\n",
    "del median_interval['interval']\n",
    "csmr12_mozilla_initial = pd.merge(csmr12_mozilla_initial, median_interval, on='product_id')\n",
    "csmr12_mozilla_initial.loc[csmr12_mozilla_initial.interval<=csmr12_mozilla_initial.med, 'label'] = 'fast'\n",
    "csmr12_mozilla_initial.loc[csmr12_mozilla_initial.interval>csmr12_mozilla_initial.med, 'label'] = 'slow'\n",
    "\n",
    "\n",
    "del csmr12_mozilla_last['creation_ts']\n",
    "csmr12_mozilla_last = pd.merge(csmr12_mozilla_last, csmr12_mozilla_label, on='bug_id')\n",
    "threshold_interval = csmr12_mozilla_last[['product_id', 'interval']].groupby('product_id').quantile(0.125).reset_index()\n",
    "threshold_interval['threshold'] = threshold_interval['interval']\n",
    "del threshold_interval['interval']\n",
    "csmr12_mozilla_last = pd.merge(csmr12_mozilla_last, threshold_interval, on='product_id')\n",
    "csmr12_mozilla_last = csmr12_mozilla_last[csmr12_mozilla_last.interval>csmr12_mozilla_last.threshold]\n",
    "\n",
    "median_interval = csmr12_mozilla_last[['product_id', 'interval']].groupby('product_id').median().reset_index()\n",
    "median_interval['med'] = median_interval['interval']\n",
    "del median_interval['interval']\n",
    "csmr12_mozilla_last = pd.merge(csmr12_mozilla_last, median_interval, on='product_id')\n",
    "csmr12_mozilla_last.loc[csmr12_mozilla_last.interval<=csmr12_mozilla_last.med, 'label'] = 'fast'\n",
    "csmr12_mozilla_last.loc[csmr12_mozilla_last.interval>csmr12_mozilla_last.med, 'label'] = 'slow'"
   ]
  },
  {
   "cell_type": "code",
   "execution_count": 2,
   "metadata": {
    "collapsed": true
   },
   "outputs": [],
   "source": [
    "csmr12_mozilla_initial[csmr12_mozilla_initial.product_id==1].to_csv('csmr12/csmr12_mozilla_init_Core_filter.csv',index=False)\n",
    "csmr12_mozilla_initial[csmr12_mozilla_initial.product_id==19].to_csv('csmr12/csmr12_mozilla_init_Bugzilla_filter.csv',index=False)\n",
    "csmr12_mozilla_initial[csmr12_mozilla_initial.product_id==21].to_csv('csmr12/csmr12_mozilla_init_Firefox_filter.csv',index=False)\n",
    "csmr12_mozilla_initial[csmr12_mozilla_initial.product_id==23].to_csv('csmr12/csmr12_mozilla_init_Thunderbird_filter.csv',index=False)\n",
    "csmr12_mozilla_initial[csmr12_mozilla_initial.product_id==25].to_csv('csmr12/csmr12_mozilla_init_Seamonkey_filter.csv',index=False)\n",
    "\n",
    "csmr12_mozilla_last[csmr12_mozilla_last.product_id==1].to_csv('csmr12/csmr12_mozilla_last_Core_filter.csv',index=False)\n",
    "csmr12_mozilla_last[csmr12_mozilla_last.product_id==19].to_csv('csmr12/csmr12_mozilla_last_Bugzilla_filter.csv',index=False)\n",
    "csmr12_mozilla_last[csmr12_mozilla_last.product_id==21].to_csv('csmr12/csmr12_mozilla_last_Firefox_filter.csv',index=False)\n",
    "csmr12_mozilla_last[csmr12_mozilla_last.product_id==23].to_csv('csmr12/csmr12_mozilla_last_Thunderbird_filter.csv',index=False)\n",
    "csmr12_mozilla_last[csmr12_mozilla_last.product_id==25].to_csv('csmr12/csmr12_mozilla_last_Seamonkey_filter.csv',index=False)"
   ]
  },
  {
   "cell_type": "code",
   "execution_count": null,
   "metadata": {
    "collapsed": true
   },
   "outputs": [],
   "source": []
  },
  {
   "cell_type": "code",
   "execution_count": 3,
   "metadata": {},
   "outputs": [],
   "source": [
    "import os\n",
    "import pandas as pd\n",
    "\n",
    "for filename in os.listdir(r'csmr12'):\n",
    "    if filename.endswith('_filter.csv'):\n",
    "        tmp = pd.read_csv('csmr12/'+filename)\n",
    "        del tmp['product_id']\n",
    "        del tmp['bug_id']\n",
    "        del tmp['interval']\n",
    "        del tmp['med']\n",
    "        del tmp['threshold']\n",
    "        tmp.to_csv('csmr12/'+filename,index=False)\n",
    "    elif filename.endswith('_nofilter.csv'):\n",
    "        tmp = pd.read_csv('csmr12/'+filename)\n",
    "        del tmp['product_id']\n",
    "        del tmp['bug_id']\n",
    "        del tmp['interval']\n",
    "        del tmp['med']\n",
    "        tmp.to_csv('csmr12/'+filename,index=False)"
   ]
  },
  {
   "cell_type": "code",
   "execution_count": null,
   "metadata": {
    "collapsed": true
   },
   "outputs": [],
   "source": []
  },
  {
   "cell_type": "code",
   "execution_count": null,
   "metadata": {
    "collapsed": true
   },
   "outputs": [],
   "source": []
  },
  {
   "cell_type": "code",
   "execution_count": null,
   "metadata": {
    "collapsed": true
   },
   "outputs": [],
   "source": []
  }
 ],
 "metadata": {
  "kernelspec": {
   "display_name": "Python 3",
   "language": "python",
   "name": "python3"
  },
  "language_info": {
   "codemirror_mode": {
    "name": "ipython",
    "version": 3
   },
   "file_extension": ".py",
   "mimetype": "text/x-python",
   "name": "python",
   "nbconvert_exporter": "python",
   "pygments_lexer": "ipython3",
   "version": "3.8.3"
  }
 },
 "nbformat": 4,
 "nbformat_minor": 1
}
