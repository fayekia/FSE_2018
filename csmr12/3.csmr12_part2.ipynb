{
 "cells": [
  {
   "cell_type": "code",
   "execution_count": 1,
   "metadata": {
    "collapsed": true
   },
   "outputs": [],
   "source": [
    "#filter eclipse all\n",
    "import pandas as pd\n",
    "\n",
    "csmr12_eclipse_initial = pd.read_csv('csmr12/csmr12_eclipse_initial.csv')\n",
    "csmr12_eclipse_last = pd.read_csv('csmr12/csmr12_eclipse_last.csv')\n",
    "csmr12_eclipse_label = pd.read_csv('csmr12/csmr12_eclipse_label.csv')\n",
    "csmr12_eclipse_userid = pd.read_csv('bugs_assignee_init_final.txt', names=['bug_id', 'init', 'final'], sep=';')"
   ]
  },
  {
   "cell_type": "code",
   "execution_count": 2,
   "metadata": {
    "collapsed": true
   },
   "outputs": [],
   "source": [
    "#issameproduct = pd.merge(csmr12_eclipse_initial[['bug_id','product_id']],csmr12_eclipse_last[['bug_id','product_id']], on='bug_id')\n",
    "#issameproduct = issameproduct[issameproduct.product_id_x==issameproduct.product_id_y]\n",
    "#csmr12_eclipse_initial = pd.merge(csmr12_eclipse_initial, issameproduct[['bug_id']], on='bug_id')\n",
    "#csmr12_eclipse_last = pd.merge(csmr12_eclipse_last, issameproduct[['bug_id']], on='bug_id')\n",
    "#csmr12_eclipse_label = pd.merge(csmr12_eclipse_label, issameproduct[['bug_id']], on='bug_id')"
   ]
  },
  {
   "cell_type": "code",
   "execution_count": 3,
   "metadata": {},
   "outputs": [],
   "source": [
    "csmr12_eclipse_initial = pd.merge(csmr12_eclipse_initial, csmr12_eclipse_userid[['bug_id', 'init']], on='bug_id')\n",
    "csmr12_eclipse_initial['assigned_to'] = csmr12_eclipse_initial['init']\n",
    "del csmr12_eclipse_initial['init']\n",
    "del csmr12_eclipse_initial['creation_ts']\n",
    "#del csmr12_eclipse_initial['index']\n",
    "csmr12_eclipse_initial = pd.merge(csmr12_eclipse_initial, csmr12_eclipse_label, on='bug_id')\n",
    "threshold_interval = csmr12_eclipse_initial[['product_id', 'interval']].groupby('product_id').quantile(0.125).reset_index()\n",
    "threshold_interval['threshold'] = threshold_interval['interval']\n",
    "del threshold_interval['interval']\n",
    "csmr12_eclipse_initial = pd.merge(csmr12_eclipse_initial, threshold_interval, on='product_id')\n",
    "csmr12_eclipse_initial = csmr12_eclipse_initial[csmr12_eclipse_initial.interval>csmr12_eclipse_initial.threshold]\n",
    "\n",
    "median_interval = csmr12_eclipse_initial[['product_id', 'interval']].groupby('product_id').median().reset_index()\n",
    "median_interval['med'] = median_interval['interval']\n",
    "del median_interval['interval']\n",
    "csmr12_eclipse_initial = pd.merge(csmr12_eclipse_initial, median_interval, on='product_id')\n",
    "csmr12_eclipse_initial.loc[csmr12_eclipse_initial.interval<=csmr12_eclipse_initial.med, 'label'] = 'fast'\n",
    "csmr12_eclipse_initial.loc[csmr12_eclipse_initial.interval>csmr12_eclipse_initial.med, 'label'] = 'slow'"
   ]
  },
  {
   "cell_type": "code",
   "execution_count": 4,
   "metadata": {},
   "outputs": [],
   "source": [
    "csmr12_eclipse_last = pd.merge(csmr12_eclipse_last, csmr12_eclipse_userid[['bug_id', 'final']], on='bug_id')\n",
    "csmr12_eclipse_last['assigned_to'] = csmr12_eclipse_last['final']\n",
    "del csmr12_eclipse_last['final']\n",
    "del csmr12_eclipse_last['creation_ts']\n",
    "csmr12_eclipse_last = pd.merge(csmr12_eclipse_last, csmr12_eclipse_label, on='bug_id')\n",
    "threshold_interval = csmr12_eclipse_last[['product_id', 'interval']].groupby('product_id').quantile(0.125).reset_index()\n",
    "threshold_interval['threshold'] = threshold_interval['interval']\n",
    "del threshold_interval['interval']\n",
    "csmr12_eclipse_last = pd.merge(csmr12_eclipse_last, threshold_interval, on='product_id')\n",
    "csmr12_eclipse_last = csmr12_eclipse_last[csmr12_eclipse_last.interval>csmr12_eclipse_last.threshold]\n",
    "\n",
    "median_interval = csmr12_eclipse_last[['product_id', 'interval']].groupby('product_id').median().reset_index()\n",
    "median_interval['med'] = median_interval['interval']\n",
    "del median_interval['interval']\n",
    "csmr12_eclipse_last = pd.merge(csmr12_eclipse_last, median_interval, on='product_id')\n",
    "csmr12_eclipse_last.loc[csmr12_eclipse_last.interval<=csmr12_eclipse_last.med, 'label'] = 'fast'\n",
    "csmr12_eclipse_last.loc[csmr12_eclipse_last.interval>csmr12_eclipse_last.med, 'label'] = 'slow'"
   ]
  },
  {
   "cell_type": "code",
   "execution_count": 5,
   "metadata": {
    "collapsed": true
   },
   "outputs": [],
   "source": [
    "del csmr12_eclipse_last['interval']\n",
    "del csmr12_eclipse_last['threshold']\n",
    "del csmr12_eclipse_last['med']\n",
    "\n",
    "\n",
    "csmr12_eclipse_severity = csmr12_eclipse_last.copy()\n",
    "del csmr12_eclipse_severity['bug_severity']\n",
    "csmr12_eclipse_severity['bug_severity'] = csmr12_eclipse_initial['bug_severity']\n",
    "\n",
    "csmr12_eclipse_priority = csmr12_eclipse_last.copy()\n",
    "del csmr12_eclipse_priority['priority']\n",
    "csmr12_eclipse_priority['priority'] = csmr12_eclipse_initial['priority']\n",
    "\n",
    "csmr12_eclipse_platform = csmr12_eclipse_last.copy()\n",
    "del csmr12_eclipse_platform['rep_platform']\n",
    "csmr12_eclipse_platform['rep_platform'] = csmr12_eclipse_initial['rep_platform']\n",
    "\n",
    "csmr12_eclipse_os = csmr12_eclipse_last.copy()\n",
    "del csmr12_eclipse_os['op_sys']\n",
    "csmr12_eclipse_os['op_sys'] = csmr12_eclipse_initial['op_sys']\n",
    "\n",
    "csmr12_eclipse_assignee = csmr12_eclipse_last.copy()\n",
    "del csmr12_eclipse_assignee['assigned_to']\n",
    "csmr12_eclipse_assignee['assigned_to'] = csmr12_eclipse_initial['assigned_to']\n",
    "\n",
    "csmr12_eclipse_component = csmr12_eclipse_last.copy()\n",
    "del csmr12_eclipse_component['component_id']\n",
    "csmr12_eclipse_component['component_id'] = csmr12_eclipse_initial['component_id']"
   ]
  },
  {
   "cell_type": "code",
   "execution_count": 6,
   "metadata": {},
   "outputs": [],
   "source": [
    "csmr12_eclipse_severity[csmr12_eclipse_severity.product_id==1].to_csv('csmr12attr/csmr12_eclipse_severity_Platform.csv',index=False)\n",
    "csmr12_eclipse_severity[csmr12_eclipse_severity.product_id==2].to_csv('csmr12attr/csmr12_eclipse_severity_PDE.csv',index=False)\n",
    "csmr12_eclipse_severity[csmr12_eclipse_severity.product_id==3].to_csv('csmr12attr/csmr12_eclipse_severity_JDT.csv',index=False)\n",
    "csmr12_eclipse_severity[csmr12_eclipse_severity.product_id==4].to_csv('csmr12attr/csmr12_eclipse_severity_CDT.csv',index=False)\n",
    "csmr12_eclipse_severity[csmr12_eclipse_severity.product_id==5].to_csv('csmr12attr/csmr12_eclipse_severity_GEF.csv',index=False)\n",
    "\n",
    "csmr12_eclipse_priority[csmr12_eclipse_priority.product_id==1].to_csv('csmr12attr/csmr12_eclipse_priority_Platform.csv',index=False)\n",
    "csmr12_eclipse_priority[csmr12_eclipse_priority.product_id==2].to_csv('csmr12attr/csmr12_eclipse_priority_PDE.csv',index=False)\n",
    "csmr12_eclipse_priority[csmr12_eclipse_priority.product_id==3].to_csv('csmr12attr/csmr12_eclipse_priority_JDT.csv',index=False)\n",
    "csmr12_eclipse_priority[csmr12_eclipse_priority.product_id==4].to_csv('csmr12attr/csmr12_eclipse_priority_CDT.csv',index=False)\n",
    "csmr12_eclipse_priority[csmr12_eclipse_priority.product_id==5].to_csv('csmr12attr/csmr12_eclipse_priority_GEF.csv',index=False)\n",
    "\n",
    "csmr12_eclipse_platform[csmr12_eclipse_platform.product_id==1].to_csv('csmr12attr/csmr12_eclipse_platform_Platform.csv',index=False)\n",
    "csmr12_eclipse_platform[csmr12_eclipse_platform.product_id==2].to_csv('csmr12attr/csmr12_eclipse_platform_PDE.csv',index=False)\n",
    "csmr12_eclipse_platform[csmr12_eclipse_platform.product_id==3].to_csv('csmr12attr/csmr12_eclipse_platform_JDT.csv',index=False)\n",
    "csmr12_eclipse_platform[csmr12_eclipse_platform.product_id==4].to_csv('csmr12attr/csmr12_eclipse_platform_CDT.csv',index=False)\n",
    "csmr12_eclipse_platform[csmr12_eclipse_platform.product_id==5].to_csv('csmr12attr/csmr12_eclipse_platform_GEF.csv',index=False)\n",
    "\n",
    "csmr12_eclipse_os[csmr12_eclipse_os.product_id==1].to_csv('csmr12attr/csmr12_eclipse_os_Platform.csv',index=False)\n",
    "csmr12_eclipse_os[csmr12_eclipse_os.product_id==2].to_csv('csmr12attr/csmr12_eclipse_os_PDE.csv',index=False)\n",
    "csmr12_eclipse_os[csmr12_eclipse_os.product_id==3].to_csv('csmr12attr/csmr12_eclipse_os_JDT.csv',index=False)\n",
    "csmr12_eclipse_os[csmr12_eclipse_os.product_id==4].to_csv('csmr12attr/csmr12_eclipse_os_CDT.csv',index=False)\n",
    "csmr12_eclipse_os[csmr12_eclipse_os.product_id==5].to_csv('csmr12attr/csmr12_eclipse_os_GEF.csv',index=False)\n",
    "\n",
    "csmr12_eclipse_assignee[csmr12_eclipse_assignee.product_id==1].to_csv('csmr12attr/csmr12_eclipse_assignee_Platform.csv',index=False)\n",
    "csmr12_eclipse_assignee[csmr12_eclipse_assignee.product_id==2].to_csv('csmr12attr/csmr12_eclipse_assignee_PDE.csv',index=False)\n",
    "csmr12_eclipse_assignee[csmr12_eclipse_assignee.product_id==3].to_csv('csmr12attr/csmr12_eclipse_assignee_JDT.csv',index=False)\n",
    "csmr12_eclipse_assignee[csmr12_eclipse_assignee.product_id==4].to_csv('csmr12attr/csmr12_eclipse_assignee_CDT.csv',index=False)\n",
    "csmr12_eclipse_assignee[csmr12_eclipse_assignee.product_id==5].to_csv('csmr12attr/csmr12_eclipse_assignee_GEF.csv',index=False)\n",
    "\n",
    "csmr12_eclipse_component[csmr12_eclipse_component.product_id==1].to_csv('csmr12attr/csmr12_eclipse_component_Platform.csv',index=False)\n",
    "csmr12_eclipse_component[csmr12_eclipse_component.product_id==2].to_csv('csmr12attr/csmr12_eclipse_component_PDE.csv',index=False)\n",
    "csmr12_eclipse_component[csmr12_eclipse_component.product_id==3].to_csv('csmr12attr/csmr12_eclipse_component_JDT.csv',index=False)\n",
    "csmr12_eclipse_component[csmr12_eclipse_component.product_id==4].to_csv('csmr12attr/csmr12_eclipse_component_CDT.csv',index=False)\n",
    "csmr12_eclipse_component[csmr12_eclipse_component.product_id==5].to_csv('csmr12attr/csmr12_eclipse_component_GEF.csv',index=False)"
   ]
  },
  {
   "cell_type": "code",
   "execution_count": null,
   "metadata": {
    "collapsed": true
   },
   "outputs": [],
   "source": []
  },
  {
   "cell_type": "code",
   "execution_count": null,
   "metadata": {
    "collapsed": true
   },
   "outputs": [],
   "source": []
  },
  {
   "cell_type": "code",
   "execution_count": null,
   "metadata": {
    "collapsed": true
   },
   "outputs": [],
   "source": []
  },
  {
   "cell_type": "code",
   "execution_count": 7,
   "metadata": {
    "collapsed": true
   },
   "outputs": [],
   "source": [
    "#filter mozilla all\n",
    "import pandas as pd\n",
    "\n",
    "csmr12_mozilla_initial = pd.read_csv('csmr12/csmr12_mozilla_initial.csv')\n",
    "csmr12_mozilla_last = pd.read_csv('csmr12/csmr12_mozilla_last.csv')\n",
    "csmr12_mozilla_label = pd.read_csv('csmr12/csmr12_mozilla_label.csv')\n",
    "\n",
    "\n",
    "#issameproduct = pd.merge(csmr12_mozilla_initial[['bug_id','product_id']],csmr12_mozilla_last[['bug_id','product_id']], on='bug_id')\n",
    "#issameproduct = issameproduct[issameproduct.product_id_x==issameproduct.product_id_y]\n",
    "#csmr12_mozilla_initial = pd.merge(csmr12_mozilla_initial, issameproduct[['bug_id']], on='bug_id')\n",
    "#csmr12_mozilla_last = pd.merge(csmr12_mozilla_last, issameproduct[['bug_id']], on='bug_id')\n",
    "#csmr12_mozilla_label = pd.merge(csmr12_mozilla_label, issameproduct[['bug_id']], on='bug_id')\n",
    "\n",
    "\n",
    "del csmr12_mozilla_initial['creation_ts']\n",
    "csmr12_mozilla_initial = pd.merge(csmr12_mozilla_initial, csmr12_mozilla_label, on='bug_id')\n",
    "threshold_interval = csmr12_mozilla_initial[['product_id', 'interval']].groupby('product_id').quantile(0.125).reset_index()\n",
    "threshold_interval['threshold'] = threshold_interval['interval']\n",
    "del threshold_interval['interval']\n",
    "csmr12_mozilla_initial = pd.merge(csmr12_mozilla_initial, threshold_interval, on='product_id')\n",
    "csmr12_mozilla_initial = csmr12_mozilla_initial[csmr12_mozilla_initial.interval>csmr12_mozilla_initial.threshold]\n",
    "\n",
    "median_interval = csmr12_mozilla_initial[['product_id', 'interval']].groupby('product_id').median().reset_index()\n",
    "median_interval['med'] = median_interval['interval']\n",
    "del median_interval['interval']\n",
    "csmr12_mozilla_initial = pd.merge(csmr12_mozilla_initial, median_interval, on='product_id')\n",
    "csmr12_mozilla_initial.loc[csmr12_mozilla_initial.interval<=csmr12_mozilla_initial.med, 'label'] = 'fast'\n",
    "csmr12_mozilla_initial.loc[csmr12_mozilla_initial.interval>csmr12_mozilla_initial.med, 'label'] = 'slow'\n",
    "\n",
    "\n",
    "del csmr12_mozilla_last['creation_ts']\n",
    "csmr12_mozilla_last = pd.merge(csmr12_mozilla_last, csmr12_mozilla_label, on='bug_id')\n",
    "threshold_interval = csmr12_mozilla_last[['product_id', 'interval']].groupby('product_id').quantile(0.125).reset_index()\n",
    "threshold_interval['threshold'] = threshold_interval['interval']\n",
    "del threshold_interval['interval']\n",
    "csmr12_mozilla_last = pd.merge(csmr12_mozilla_last, threshold_interval, on='product_id')\n",
    "csmr12_mozilla_last = csmr12_mozilla_last[csmr12_mozilla_last.interval>csmr12_mozilla_last.threshold]\n",
    "\n",
    "median_interval = csmr12_mozilla_last[['product_id', 'interval']].groupby('product_id').median().reset_index()\n",
    "median_interval['med'] = median_interval['interval']\n",
    "del median_interval['interval']\n",
    "csmr12_mozilla_last = pd.merge(csmr12_mozilla_last, median_interval, on='product_id')\n",
    "csmr12_mozilla_last.loc[csmr12_mozilla_last.interval<=csmr12_mozilla_last.med, 'label'] = 'fast'\n",
    "csmr12_mozilla_last.loc[csmr12_mozilla_last.interval>csmr12_mozilla_last.med, 'label'] = 'slow'"
   ]
  },
  {
   "cell_type": "code",
   "execution_count": 8,
   "metadata": {
    "collapsed": true
   },
   "outputs": [],
   "source": [
    "del csmr12_mozilla_last['interval']\n",
    "del csmr12_mozilla_last['threshold']\n",
    "del csmr12_mozilla_last['med']\n",
    "\n",
    "csmr12_mozilla_severity = csmr12_mozilla_last.copy()\n",
    "del csmr12_mozilla_severity['bug_severity']\n",
    "csmr12_mozilla_severity['bug_severity'] = csmr12_mozilla_initial['bug_severity']\n",
    "\n",
    "csmr12_mozilla_priority = csmr12_mozilla_last.copy()\n",
    "del csmr12_mozilla_priority['priority']\n",
    "csmr12_mozilla_priority['priority'] = csmr12_mozilla_initial['priority']\n",
    "\n",
    "csmr12_mozilla_platform = csmr12_mozilla_last.copy()\n",
    "del csmr12_mozilla_platform['rep_platform']\n",
    "csmr12_mozilla_platform['rep_platform'] = csmr12_mozilla_initial['rep_platform']\n",
    "\n",
    "csmr12_mozilla_os = csmr12_mozilla_last.copy()\n",
    "del csmr12_mozilla_os['op_sys']\n",
    "csmr12_mozilla_os['op_sys'] = csmr12_mozilla_initial['op_sys']\n",
    "\n",
    "csmr12_mozilla_assignee = csmr12_mozilla_last.copy()\n",
    "del csmr12_mozilla_assignee['assigned_to']\n",
    "csmr12_mozilla_assignee['assigned_to'] = csmr12_mozilla_initial['assigned_to']\n",
    "\n",
    "csmr12_mozilla_component = csmr12_mozilla_last.copy()\n",
    "del csmr12_mozilla_component['component_id']\n",
    "csmr12_mozilla_component['component_id'] = csmr12_mozilla_initial['component_id']\n",
    "\n",
    "#csmr12_mozilla_severity.to_csv('csmr12-2-2/csmr12_mozilla_severity.csv',index=False)\n",
    "#csmr12_mozilla_priority.to_csv('csmr12-2-2/csmr12_mozilla_priority.csv',index=False)\n",
    "#csmr12_mozilla_platform.to_csv('csmr12-2-2/csmr12_mozilla_platform.csv',index=False)\n",
    "#csmr12_mozilla_os.to_csv('csmr12-2-2/csmr12_mozilla_os.csv',index=False)\n",
    "#csmr12_mozilla_assignee.to_csv('csmr12-2-2/csmr12_mozilla_assignee.csv',index=False)\n",
    "#csmr12_mozilla_component.to_csv('csmr12-2-2/csmr12_mozilla_component.csv',index=False)\n",
    "#csmr12_mozilla_last.to_csv('csmr12-2-2/csmr12_mozilla.csv',index=False)"
   ]
  },
  {
   "cell_type": "code",
   "execution_count": 9,
   "metadata": {},
   "outputs": [],
   "source": [
    "csmr12_mozilla_severity[csmr12_mozilla_severity.product_id==1].to_csv('csmr12attr/csmr12_mozilla_severity_Core.csv',index=False)\n",
    "csmr12_mozilla_severity[csmr12_mozilla_severity.product_id==19].to_csv('csmr12attr/csmr12_mozilla_severity_Bugzilla.csv',index=False)\n",
    "csmr12_mozilla_severity[csmr12_mozilla_severity.product_id==21].to_csv('csmr12attr/csmr12_mozilla_severity_Firefox.csv',index=False)\n",
    "csmr12_mozilla_severity[csmr12_mozilla_severity.product_id==23].to_csv('csmr12attr/csmr12_mozilla_severity_Thunderbird.csv',index=False)\n",
    "csmr12_mozilla_severity[csmr12_mozilla_severity.product_id==25].to_csv('csmr12attr/csmr12_mozilla_severity_Seamonkey.csv',index=False)\n",
    "\n",
    "csmr12_mozilla_priority[csmr12_mozilla_priority.product_id==1].to_csv('csmr12attr/csmr12_mozilla_priority_Core.csv',index=False)\n",
    "csmr12_mozilla_priority[csmr12_mozilla_priority.product_id==19].to_csv('csmr12attr/csmr12_mozilla_priority_Bugzilla.csv',index=False)\n",
    "csmr12_mozilla_priority[csmr12_mozilla_priority.product_id==21].to_csv('csmr12attr/csmr12_mozilla_priority_Firefox.csv',index=False)\n",
    "csmr12_mozilla_priority[csmr12_mozilla_priority.product_id==23].to_csv('csmr12attr/csmr12_mozilla_priority_Thunderbird.csv',index=False)\n",
    "csmr12_mozilla_priority[csmr12_mozilla_priority.product_id==25].to_csv('csmr12attr/csmr12_mozilla_priority_Seamonkey.csv',index=False)\n",
    "\n",
    "csmr12_mozilla_platform[csmr12_mozilla_platform.product_id==1].to_csv('csmr12attr/csmr12_mozilla_platform_Core.csv',index=False)\n",
    "csmr12_mozilla_platform[csmr12_mozilla_platform.product_id==19].to_csv('csmr12attr/csmr12_mozilla_platform_Bugzilla.csv',index=False)\n",
    "csmr12_mozilla_platform[csmr12_mozilla_platform.product_id==21].to_csv('csmr12attr/csmr12_mozilla_platform_Firefox.csv',index=False)\n",
    "csmr12_mozilla_platform[csmr12_mozilla_platform.product_id==23].to_csv('csmr12attr/csmr12_mozilla_platform_Thunderbird.csv',index=False)\n",
    "csmr12_mozilla_platform[csmr12_mozilla_platform.product_id==25].to_csv('csmr12attr/csmr12_mozilla_platform_Seamonkey.csv',index=False)\n",
    "\n",
    "csmr12_mozilla_os[csmr12_mozilla_os.product_id==1].to_csv('csmr12attr/csmr12_mozilla_os_Core.csv',index=False)\n",
    "csmr12_mozilla_os[csmr12_mozilla_os.product_id==19].to_csv('csmr12attr/csmr12_mozilla_os_Bugzilla.csv',index=False)\n",
    "csmr12_mozilla_os[csmr12_mozilla_os.product_id==21].to_csv('csmr12attr/csmr12_mozilla_os_Firefox.csv',index=False)\n",
    "csmr12_mozilla_os[csmr12_mozilla_os.product_id==23].to_csv('csmr12attr/csmr12_mozilla_os_Thunderbird.csv',index=False)\n",
    "csmr12_mozilla_os[csmr12_mozilla_os.product_id==25].to_csv('csmr12attr/csmr12_mozilla_os_Seamonkey.csv',index=False)\n",
    "\n",
    "csmr12_mozilla_assignee[csmr12_mozilla_assignee.product_id==1].to_csv('csmr12attr/csmr12_mozilla_assignee_Core.csv',index=False)\n",
    "csmr12_mozilla_assignee[csmr12_mozilla_assignee.product_id==19].to_csv('csmr12attr/csmr12_mozilla_assignee_Bugzilla.csv',index=False)\n",
    "csmr12_mozilla_assignee[csmr12_mozilla_assignee.product_id==21].to_csv('csmr12attr/csmr12_mozilla_assignee_Firefox.csv',index=False)\n",
    "csmr12_mozilla_assignee[csmr12_mozilla_assignee.product_id==23].to_csv('csmr12attr/csmr12_mozilla_assignee_Thunderbird.csv',index=False)\n",
    "csmr12_mozilla_assignee[csmr12_mozilla_assignee.product_id==25].to_csv('csmr12attr/csmr12_mozilla_assignee_Seamonkey.csv',index=False)\n",
    "\n",
    "csmr12_mozilla_component[csmr12_mozilla_component.product_id==1].to_csv('csmr12attr/csmr12_mozilla_component_Core.csv',index=False)\n",
    "csmr12_mozilla_component[csmr12_mozilla_component.product_id==19].to_csv('csmr12attr/csmr12_mozilla_component_Bugzilla.csv',index=False)\n",
    "csmr12_mozilla_component[csmr12_mozilla_component.product_id==21].to_csv('csmr12attr/csmr12_mozilla_component_Firefox.csv',index=False)\n",
    "csmr12_mozilla_component[csmr12_mozilla_component.product_id==23].to_csv('csmr12attr/csmr12_mozilla_component_Thunderbird.csv',index=False)\n",
    "csmr12_mozilla_component[csmr12_mozilla_component.product_id==25].to_csv('csmr12attr/csmr12_mozilla_component_Seamonkey.csv',index=False)"
   ]
  },
  {
   "cell_type": "code",
   "execution_count": null,
   "metadata": {
    "collapsed": true
   },
   "outputs": [],
   "source": []
  },
  {
   "cell_type": "code",
   "execution_count": null,
   "metadata": {
    "collapsed": true
   },
   "outputs": [],
   "source": []
  },
  {
   "cell_type": "code",
   "execution_count": null,
   "metadata": {
    "collapsed": true
   },
   "outputs": [],
   "source": []
  },
  {
   "cell_type": "code",
   "execution_count": 10,
   "metadata": {
    "collapsed": true
   },
   "outputs": [],
   "source": [
    "import os\n",
    "import pandas as pd\n",
    "\n",
    "for filename in os.listdir(r'csmr12attr'):\n",
    "    if filename.endswith('.csv'):\n",
    "        tmp = pd.read_csv('csmr12attr/'+filename)\n",
    "        del tmp['product_id']\n",
    "        del tmp['bug_id']\n",
    "        tmp['tag'] = tmp['label']\n",
    "        del tmp['label']\n",
    "        tmp.to_csv('csmr12attr/'+filename,index=False)\n"
   ]
  },
  {
   "cell_type": "code",
   "execution_count": null,
   "metadata": {
    "collapsed": true
   },
   "outputs": [],
   "source": []
  }
 ],
 "metadata": {
  "kernelspec": {
   "display_name": "Python 3",
   "language": "python",
   "name": "python3"
  },
  "language_info": {
   "codemirror_mode": {
    "name": "ipython",
    "version": 3
   },
   "file_extension": ".py",
   "mimetype": "text/x-python",
   "name": "python",
   "nbconvert_exporter": "python",
   "pygments_lexer": "ipython3",
   "version": "3.8.3"
  }
 },
 "nbformat": 4,
 "nbformat_minor": 1
}
